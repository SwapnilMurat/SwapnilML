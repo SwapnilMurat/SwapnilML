{
  "nbformat": 4,
  "nbformat_minor": 0,
  "metadata": {
    "colab": {
      "provenance": []
    },
    "kernelspec": {
      "name": "python3",
      "display_name": "Python 3"
    },
    "language_info": {
      "name": "python"
    }
  },
  "cells": [
    {
      "cell_type": "code",
      "execution_count": null,
      "metadata": {
        "colab": {
          "base_uri": "https://localhost:8080/"
        },
        "id": "jygo0W8tj8lm",
        "outputId": "90e40db3-f0f8-4db1-c3fa-2264d8d9aef9"
      },
      "outputs": [
        {
          "output_type": "stream",
          "name": "stdout",
          "text": [
            "0.916604-0.953505-1.863281--0.196725--0.387672-1.116069-2.259789-4.086416\n"
          ]
        }
      ],
      "source": [
        "import numpy as np\n",
        "\n",
        "# Sample functions (replace these with your actual functions)\n",
        "def function_2d(x, y):\n",
        "    return np.sin(x) + np.cos(y)\n",
        "\n",
        "def function_3d(x, y, z):\n",
        "    return x**2 + y**2 + z**2\n",
        "\n",
        "def function_4d(a, b, c, d):\n",
        "    return a * b - c / d\n",
        "\n",
        "def function_5d(a, b, c, d, e):\n",
        "    return a + b - c * d / e\n",
        "\n",
        "def function_6d(a, b, c, d, e, f):\n",
        "    return a**2 + b**2 + c**2 + d**2 + e**2 + f**2\n",
        "\n",
        "def function_8d(*args):\n",
        "    return sum(args)\n",
        "\n",
        "# Generate and print sample queries in the required format\n",
        "queries = []\n",
        "\n",
        "# Function 1 (2-dimensional)\n",
        "x1, y1 = 0.123456, 0.654321\n",
        "query_1 = function_2d(x1, y1)\n",
        "queries.append(query_1)\n",
        "\n",
        "# Function 2 (2-dimensional)\n",
        "x2, y2 = 0.234567, 0.765432\n",
        "query_2 = function_2d(x2, y2)\n",
        "queries.append(query_2)\n",
        "\n",
        "# Function 3 (3-dimensional)\n",
        "x3, y3, z3 = 0.345678, 0.876543, 0.987654\n",
        "query_3 = function_3d(x3, y3, z3)\n",
        "queries.append(query_3)\n",
        "\n",
        "# Function 4 (4-dimensional)\n",
        "x4, y4, z4, w4 = 0.456789, 0.987654, 0.567890, 0.876543\n",
        "query_4 = function_4d(x4, y4, z4, w4)\n",
        "queries.append(query_4)\n",
        "\n",
        "# Function 5 (4-dimensional)\n",
        "x5, y5, z5, w5, e5 = 0.567890, 0.876543, 0.345678, 0.654321, 0.123456\n",
        "query_5 = function_5d(x5, y5, z5, w5, e5)\n",
        "queries.append(query_5)\n",
        "\n",
        "# Function 6 (5-dimensional)\n",
        "x6, y6, z6, w6, v6, u6 = 0.678901, 0.123456, 0.234567, 0.543210, 0.432109, 0.321098\n",
        "query_6 = function_6d(x6, y6, z6, w6, v6, u6)\n",
        "queries.append(query_6)\n",
        "\n",
        "# Function 7 (6-dimensional)\n",
        "x7, y7, z7, w7, v7, u7 = 0.789012, 0.345678, 0.456789, 0.765432, 0.654321, 0.543210\n",
        "query_7 = function_6d(x7, y7, z7, w7, v7, u7)\n",
        "queries.append(query_7)\n",
        "\n",
        "# Function 8 (8-dimensional)\n",
        "x8 = [0.123456, 0.234567, 0.345678, 0.456789, 0.567890, 0.678901, 0.789012, 0.890123]\n",
        "query_8 = function_8d(*x8)\n",
        "queries.append(query_8)\n",
        "\n",
        "# Print queries in the required format\n",
        "formatted_queries = '-'.join(f'{query:.6f}' for query in queries)\n",
        "print(formatted_queries)"
      ]
    },
    {
      "cell_type": "code",
      "source": [
        "import numpy as np\n",
        "\n",
        "# Sample functions (replace these with your actual functions)\n",
        "def function_2d_1(x, y):\n",
        "    return x * y + np.sin(x)\n",
        "\n",
        "def function_2d_2(x, y):\n",
        "    return x**2 - y**2\n",
        "\n",
        "def function_3d(x, y, z):\n",
        "    return x**2 + y**2 - z**2\n",
        "\n",
        "def function_4d_1(a, b, c, d):\n",
        "    return a * b + c / d\n",
        "\n",
        "def function_4d_2(a, b, c, d):\n",
        "    return a - b * c + np.sin(d)\n",
        "\n",
        "def function_5d(a, b, c, d, e):\n",
        "    return a**2 - b * c + d / e\n",
        "\n",
        "def function_6d(a, b, c, d, e, f):\n",
        "    return a + b * c - d**2 + np.sin(e) - f\n",
        "\n",
        "def function_7d(a, b, c, d, e, f, g):\n",
        "    return a * b + c**2 - d + np.sin(e) - f**2 + g\n",
        "\n",
        "def function_8d(*args):\n",
        "    return sum(args) + np.sin(args[0]) - args[3]\n",
        "\n",
        "# Generate and print sample queries in the required format\n",
        "queries = []\n",
        "\n",
        "# Function 1 (2-dimensional)\n",
        "x1, y1 = 0.123456, 0.654321\n",
        "query_1 = function_2d_1(x1, y1)\n",
        "queries.append(query_1)\n",
        "\n",
        "# Function 2 (2-dimensional)\n",
        "x2, y2 = 0.234567, 0.765432\n",
        "query_2 = function_2d_2(x2, y2)\n",
        "queries.append(query_2)\n",
        "\n",
        "# Function 3 (3-dimensional)\n",
        "x3, y3, z3 = 0.345678, 0.876543, 0.987654\n",
        "query_3 = function_3d(x3, y3, z3)\n",
        "queries.append(query_3)\n",
        "\n",
        "# Function 4 (4-dimensional)\n",
        "x4, y4, z4, w4 = 0.456789, 0.987654, 0.567890, 0.876543\n",
        "query_4 = function_4d_1(x4, y4, z4, w4)\n",
        "queries.append(query_4)\n",
        "\n",
        "# Function 5 (4-dimensional)\n",
        "x5, y5, z5, w5 = 0.567890, 0.876543, 0.345678, 0.654321\n",
        "query_5 = function_4d_2(x5, y5, z5, w5)\n",
        "queries.append(query_5)\n",
        "\n",
        "# Function 6 (5-dimensional)\n",
        "x6, y6, z6, w6, v6 = 0.678901, 0.123456, 0.234567, 0.543210, 0.432109\n",
        "query_6 = function_5d(x6, y6, z6, w6, v6)\n",
        "queries.append(query_6)\n",
        "\n",
        "# Function 7 (6-dimensional)\n",
        "x7, y7, z7, w7, v7, u7 = 0.789012, 0.345678, 0.456789, 0.765432, 0.654321, 0.543210\n",
        "query_7 = function_6d(x7, y7, z7, w7, v7, u7)\n",
        "queries.append(query_7)\n",
        "\n",
        "# Function 8 (8-dimensional)\n",
        "x8 = [0.123456, 0.234567, 0.345678, 0.456789, 0.567890, 0.678901, 0.789012, 0.890123]\n",
        "query_8 = function_8d(*x8)\n",
        "queries.append(query_8)\n",
        "\n",
        "# Print queries in the required format\n",
        "formatted_queries = '-'.join(f'{query:.6f}' for query in queries)\n",
        "print(formatted_queries)"
      ],
      "metadata": {
        "colab": {
          "base_uri": "https://localhost:8080/"
        },
        "id": "KrgseopklLgZ",
        "outputId": "9d07d18f-5db8-4c04-f310-c4a09c08f105"
      },
      "execution_count": null,
      "outputs": [
        {
          "output_type": "stream",
          "name": "stdout",
          "text": [
            "0.203922--0.530864--0.087640-1.099024-0.873509-1.689061-0.426438-3.752770\n"
          ]
        }
      ]
    },
    {
      "cell_type": "code",
      "source": [
        "import random\n",
        "\n",
        "# Function to generate a query in the required format\n",
        "def generate_query(dimensions):\n",
        "    query = []\n",
        "    for _ in range(dimensions):\n",
        "        value = round(random.uniform(-10, 10), 6)  # Adjust range based on your requirements\n",
        "        query.append(f'0.{str(value).split(\".\")[1]}')\n",
        "    return '-'.join(query)\n",
        "\n",
        "# Generating queries for each function\n",
        "queries = {}\n",
        "queries['Function 1 (2-dimensional)'] = generate_query(2)\n",
        "queries['Function 2 (2-dimensional)'] = generate_query(2)\n",
        "queries['Function 3 (3-dimensional)'] = generate_query(3)\n",
        "queries['Function 4 (4-dimensional)'] = generate_query(4)\n",
        "queries['Function 5 (4-dimensional)'] = generate_query(4)\n",
        "queries['Function 6 (5-dimensional)'] = generate_query(5)\n",
        "queries['Function 7 (6-dimensional)'] = generate_query(6)\n",
        "queries['Function 8 (8-dimensional)'] = generate_query(8)\n",
        "\n",
        "# Displaying the generated queries\n",
        "for function, query in queries.items():\n",
        "    print(f\"{function}: {query}\")"
      ],
      "metadata": {
        "id": "qt8_UNhLldYB",
        "outputId": "133cdefd-4fb3-422b-9cc4-634c84fbfeab",
        "colab": {
          "base_uri": "https://localhost:8080/"
        }
      },
      "execution_count": null,
      "outputs": [
        {
          "output_type": "stream",
          "name": "stdout",
          "text": [
            "Function 1 (2-dimensional): 0.100257-0.614564\n",
            "Function 2 (2-dimensional): 0.931117-0.820721\n",
            "Function 3 (3-dimensional): 0.324254-0.842489-0.974897\n",
            "Function 4 (4-dimensional): 0.236169-0.36731-0.038793-0.506465\n",
            "Function 5 (4-dimensional): 0.366459-0.257638-0.309983-0.517741\n",
            "Function 6 (5-dimensional): 0.661465-0.3476-0.974074-0.33711-0.483742\n",
            "Function 7 (6-dimensional): 0.187821-0.946675-0.619912-0.745347-0.362601-0.382344\n",
            "Function 8 (8-dimensional): 0.662561-0.700504-0.588607-0.959154-0.619004-0.56342-0.471307-0.055875\n"
          ]
        }
      ]
    }
  ]
}